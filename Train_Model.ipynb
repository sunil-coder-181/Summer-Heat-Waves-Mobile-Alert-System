{
 "cells": [
  {
   "cell_type": "code",
   "execution_count": 2,
   "id": "f2c3b6ad-a0bf-4e6c-a6ca-c420ac7484db",
   "metadata": {},
   "outputs": [],
   "source": [
    "#Importing Libraries\n",
    "import pandas as pd\n",
    "from sklearn.preprocessing import MinMaxScaler\n",
    "from sklearn.model_selection import train_test_split\n",
    "from sklearn.ensemble import RandomForestClassifier\n",
    "from sklearn.metrics import accuracy_score, precision_score, recall_score, f1_score\n",
    "import joblib"
   ]
  },
  {
   "cell_type": "code",
   "execution_count": 3,
   "id": "4cafb9c4-ab7c-4136-a792-55a0e3bea250",
   "metadata": {},
   "outputs": [],
   "source": [
    "# Load the CSV file\n",
    "data = pd.read_csv('Weather_Data.csv')"
   ]
  },
  {
   "cell_type": "code",
   "execution_count": 4,
   "id": "635d2b69-d484-4684-b79f-a13295bc72aa",
   "metadata": {},
   "outputs": [],
   "source": [
    "# Load the CSV file\n",
    "data = pd.read_csv('Weather_Data.csv')\n",
    "\n",
    "# Strip any leading/trailing whitespace characters from column names\n",
    "data.columns = data.columns.str.strip()"
   ]
  },
  {
   "cell_type": "code",
   "execution_count": 5,
   "id": "bf96289c-f187-4203-921b-cdb9472d4c28",
   "metadata": {},
   "outputs": [
    {
     "name": "stdout",
     "output_type": "stream",
     "text": [
      "Index(['MaxT', 'MinT', 'WindSpeed', 'Humidity'], dtype='object')\n"
     ]
    }
   ],
   "source": [
    "# Print column names to verify\n",
    "print(data.columns)"
   ]
  },
  {
   "cell_type": "code",
   "execution_count": 6,
   "id": "8170da4d-9e61-4753-848e-4bb94b4d1bcd",
   "metadata": {},
   "outputs": [
    {
     "name": "stdout",
     "output_type": "stream",
     "text": [
      "       MaxT      MinT  WindSpeed  Humidity      AvgT  heat_index\n",
      "0  0.291188  0.397849   0.148649  0.614551  0.269129    0.285281\n",
      "1  0.314176  0.354839   0.148649  0.571207  0.263852    0.272804\n",
      "2  0.306513  0.360215   0.162162  0.537152  0.261214    0.264623\n",
      "3  0.302682  0.344086   0.135135  0.595975  0.250660    0.262485\n",
      "4  0.295019  0.327957   0.216216  0.603715  0.237467    0.249496\n"
     ]
    }
   ],
   "source": [
    "# Check if the required columns exist\n",
    "required_columns = ['MaxT', 'MinT', 'WindSpeed', 'Humidity']\n",
    "if all(column in data.columns for column in required_columns):\n",
    "    # Fill missing values (forward fill)\n",
    "    data.ffill(inplace=True)\n",
    "    \n",
    "    # Calculate average temperature\n",
    "    data['AvgT'] = (data['MaxT'] + data['MinT']) / 2\n",
    "    \n",
    "    # Feature engineering (example: compute a heat index-like feature)\n",
    "    data['heat_index'] = 0.5 * (data['AvgT'] + 61.0 + ((data['AvgT'] - 68.0) * 1.2) + (data['Humidity'] * 0.094))\n",
    "    \n",
    "    # Normalize the data\n",
    "    scaler = MinMaxScaler()\n",
    "    data[['MaxT', 'MinT', 'WindSpeed', 'Humidity', 'AvgT', 'heat_index']] = scaler.fit_transform(data[['MaxT', 'MinT', 'WindSpeed', 'Humidity', 'AvgT', 'heat_index']])\n",
    "    \n",
    "    print(data.head())\n",
    "else:\n",
    "    print(\"One or more required columns ('MaxT', 'MinT', 'WindSpeed', 'Humidity') are missing in the dataset.\")"
   ]
  },
  {
   "cell_type": "code",
   "execution_count": 7,
   "id": "aa0d102d-938b-4682-bdf0-c01671b03642",
   "metadata": {},
   "outputs": [
    {
     "name": "stdout",
     "output_type": "stream",
     "text": [
      "Scaler saved as 'scaler.pkl'\n"
     ]
    }
   ],
   "source": [
    " # Save the scaler\n",
    "joblib.dump(scaler, 'scaler.pkl')\n",
    "print(\"Scaler saved as 'scaler.pkl'\")"
   ]
  },
  {
   "cell_type": "code",
   "execution_count": 8,
   "id": "84d27837-203b-4a9d-9bd2-564d21d65976",
   "metadata": {},
   "outputs": [
    {
     "name": "stdout",
     "output_type": "stream",
     "text": [
      "count    6236.000000\n",
      "mean        0.448121\n",
      "std         0.153598\n",
      "min         0.000000\n",
      "25%         0.329815\n",
      "50%         0.448549\n",
      "75%         0.548813\n",
      "max         1.000000\n",
      "Name: AvgT, dtype: float64\n"
     ]
    }
   ],
   "source": [
    "# Explore the distribution of AvgT to choose an appropriate threshold\n",
    "print(data['AvgT'].describe())"
   ]
  },
  {
   "cell_type": "code",
   "execution_count": 9,
   "id": "90550a4d-2974-4e09-b705-fa6fc6800120",
   "metadata": {},
   "outputs": [],
   "source": [
    "# Define the threshold for a heat wave (example: AvgT > 0.75, since data is normalized)\n",
    "threshold = 0.75"
   ]
  },
  {
   "cell_type": "code",
   "execution_count": 10,
   "id": "7f89311d-ea6d-42f4-9723-6c870eb99a94",
   "metadata": {},
   "outputs": [
    {
     "name": "stdout",
     "output_type": "stream",
     "text": [
      "heat_wave\n",
      "0    6055\n",
      "1     181\n",
      "Name: count, dtype: int64\n"
     ]
    }
   ],
   "source": [
    "# Define the target variable\n",
    "data['heat_wave'] = (data['AvgT'] > threshold).astype(int)\n",
    "    \n",
    "# Check the distribution of the target variable\n",
    "print(data['heat_wave'].value_counts())"
   ]
  },
  {
   "cell_type": "code",
   "execution_count": 11,
   "id": "97843922-f8da-4fe6-b49a-47c0afebeeab",
   "metadata": {},
   "outputs": [],
   "source": [
    "# Split the data into features and target\n",
    "X = data[['MaxT', 'MinT', 'WindSpeed', 'Humidity', 'AvgT', 'heat_index']]\n",
    "y = data['heat_wave']\n",
    "    \n",
    "# Split the data into training and testing sets\n",
    "X_train, X_test, y_train, y_test = train_test_split(X, y, test_size=0.2, random_state=42)"
   ]
  },
  {
   "cell_type": "code",
   "execution_count": 12,
   "id": "c8e5bec5-6d56-4d75-9db4-e1f6c75d7909",
   "metadata": {},
   "outputs": [],
   "source": [
    "# Train a Random Forest Classifier\n",
    "model = RandomForestClassifier(n_estimators=100, random_state=42)\n",
    "model.fit(X_train, y_train)\n",
    "    \n",
    "# Make predictions on the test set\n",
    "y_pred = model.predict(X_test)"
   ]
  },
  {
   "cell_type": "code",
   "execution_count": 13,
   "id": "8775ff85-174e-44bf-888c-a3e6c0f32f1d",
   "metadata": {},
   "outputs": [
    {
     "name": "stdout",
     "output_type": "stream",
     "text": [
      "0    1215\n",
      "1      33\n",
      "Name: count, dtype: int64\n"
     ]
    }
   ],
   "source": [
    "# Check the distribution of the predictions\n",
    "print(pd.Series(y_pred).value_counts())"
   ]
  },
  {
   "cell_type": "code",
   "execution_count": 14,
   "id": "2aa6ddc7-6d7d-4b70-b44f-c502a548865f",
   "metadata": {},
   "outputs": [],
   "source": [
    " # Evaluate the model\n",
    "accuracy = accuracy_score(y_test, y_pred)\n",
    "precision = precision_score(y_test, y_pred, zero_division=0)\n",
    "recall = recall_score(y_test, y_pred, zero_division=0)\n",
    "f1 = f1_score(y_test, y_pred, zero_division=0)"
   ]
  },
  {
   "cell_type": "code",
   "execution_count": 15,
   "id": "e6a05718-e852-49c4-b218-8fc0d4603fa4",
   "metadata": {},
   "outputs": [
    {
     "name": "stdout",
     "output_type": "stream",
     "text": [
      "Accuracy: 1.0\n",
      "Precision: 1.0\n",
      "Recall: 1.0\n",
      "F1 Score: 1.0\n"
     ]
    }
   ],
   "source": [
    "print(f\"Accuracy: {accuracy}\")\n",
    "print(f\"Precision: {precision}\")\n",
    "print(f\"Recall: {recall}\")\n",
    "print(f\"F1 Score: {f1}\")"
   ]
  },
  {
   "cell_type": "code",
   "execution_count": 16,
   "id": "0ff92f5b-2027-41e1-ab6f-81bb37d7f32e",
   "metadata": {},
   "outputs": [
    {
     "name": "stdout",
     "output_type": "stream",
     "text": [
      "Model saved as 'heat_wave_model.pkl'\n"
     ]
    }
   ],
   "source": [
    "# Save the trained model\n",
    "joblib.dump(model, 'heat_wave_model.pkl')\n",
    "print(\"Model saved as 'heat_wave_model.pkl'\")"
   ]
  }
 ],
 "metadata": {
  "kernelspec": {
   "display_name": "Python 3 (ipykernel)",
   "language": "python",
   "name": "python3"
  },
  "language_info": {
   "codemirror_mode": {
    "name": "ipython",
    "version": 3
   },
   "file_extension": ".py",
   "mimetype": "text/x-python",
   "name": "python",
   "nbconvert_exporter": "python",
   "pygments_lexer": "ipython3",
   "version": "3.12.4"
  }
 },
 "nbformat": 4,
 "nbformat_minor": 5
}
