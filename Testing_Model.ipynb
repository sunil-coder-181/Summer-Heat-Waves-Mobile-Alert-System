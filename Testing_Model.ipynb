{
 "cells": [
  {
   "cell_type": "code",
   "execution_count": 12,
   "id": "49586719-e93b-4c11-ba7b-b947fb1c247e",
   "metadata": {},
   "outputs": [
    {
     "name": "stdout",
     "output_type": "stream",
     "text": [
      "No heat wave predicted\n"
     ]
    }
   ],
   "source": [
    "import joblib\n",
    "import pandas as pd\n",
    "\n",
    "# Load the model and the scaler\n",
    "model = joblib.load('heat_wave_model.pkl')\n",
    "scaler = joblib.load('scaler.pkl')\n",
    "\n",
    "# Define the list of features\n",
    "features = ['MaxT', 'MinT', 'WindSpeed', 'Humidity', 'AvgT', 'heat_index']\n",
    "\n",
    "# Example data for prediction\n",
    "new_data = pd.DataFrame({\n",
    "    'MaxT': [34.0],\n",
    "    'MinT': [23.7],\n",
    "    'WindSpeed': [7],\n",
    "    'Humidity': [61],\n",
    "    'AvgT': [28.8],\n",
    "    'heat_index': [38.5]\n",
    "})\n",
    "\n",
    "# Normalize new data\n",
    "new_data[features] = scaler.transform(new_data[features])\n",
    "\n",
    "# Predict function\n",
    "def predict_heat_wave(data):\n",
    "    prediction = model.predict(data)\n",
    "    return prediction\n",
    "\n",
    "# Make prediction\n",
    "prediction = predict_heat_wave(new_data)\n",
    "print(\"Heat wave predicted\" if prediction[0] == 1 else \"No heat wave predicted\")\n"
   ]
  },
  {
   "cell_type": "code",
   "execution_count": 1,
   "id": "67b5ec75-7f13-4367-b590-50ffc6f80c13",
   "metadata": {},
   "outputs": [
    {
     "name": "stdout",
     "output_type": "stream",
     "text": [
      "Heat wave predicted\n"
     ]
    }
   ],
   "source": [
    "import joblib\n",
    "import pandas as pd\n",
    "\n",
    "# Load the model and the scaler\n",
    "model = joblib.load('heat_wave_model.pkl')\n",
    "scaler = joblib.load('scaler.pkl')\n",
    "\n",
    "# Define the list of features\n",
    "features = ['MaxT', 'MinT', 'WindSpeed', 'Humidity', 'AvgT', 'heat_index']\n",
    "\n",
    "# Example data for prediction with higher values\n",
    "new_data = pd.DataFrame({\n",
    "    'MaxT': [45.0],      # Higher max temperature\n",
    "    'MinT': [30.0],      # Higher min temperature\n",
    "    'WindSpeed': [12],   # Increased wind speed\n",
    "    'Humidity': [85],    # Higher humidity\n",
    "    'AvgT': [37.5],      # Higher average temperature\n",
    "    'heat_index': [50.0] # Higher heat index\n",
    "})\n",
    "\n",
    "# Normalize new data\n",
    "new_data[features] = scaler.transform(new_data[features])\n",
    "\n",
    "# Predict function\n",
    "def predict_heat_wave(data):\n",
    "    prediction = model.predict(data)\n",
    "    return prediction\n",
    "\n",
    "# Make prediction\n",
    "prediction = predict_heat_wave(new_data)\n",
    "print(\"Heat wave predicted\" if prediction[0] == 1 else \"No heat wave predicted\")"
   ]
  }
 ],
 "metadata": {
  "kernelspec": {
   "display_name": "Python 3 (ipykernel)",
   "language": "python",
   "name": "python3"
  },
  "language_info": {
   "codemirror_mode": {
    "name": "ipython",
    "version": 3
   },
   "file_extension": ".py",
   "mimetype": "text/x-python",
   "name": "python",
   "nbconvert_exporter": "python",
   "pygments_lexer": "ipython3",
   "version": "3.12.4"
  }
 },
 "nbformat": 4,
 "nbformat_minor": 5
}
